{
 "cells": [
  {
   "cell_type": "markdown",
   "id": "380b75b9",
   "metadata": {
    "slideshow": {
     "slide_type": "slide"
    }
   },
   "source": [
    "### OCNC 2023 Introductory Session for Biologists:\n",
    "\n",
    "\n",
    "# Differential Equations and Numerical Methods\n",
    "\n",
    "\n",
    "\n",
    "\n",
    "Sungho Hong\n",
    "\n",
    "Computational Neuroscience Unit, OIST\n",
    "\n",
    "June 19, 2023 \n",
    "\n"
   ]
  },
  {
   "cell_type": "markdown",
   "id": "3a3620ed",
   "metadata": {
    "slideshow": {
     "slide_type": "slide"
    }
   },
   "source": [
    "## What is the differential equation?\n",
    "\n",
    "A *differential equation* is an equation that includes a derivative $dy(x)/dx$ of a function $f(y,x)$.\n",
    "\n",
    "If the independent variable $x$ is single, such as time, it is called an *ordinary differential equation (ODE)*.  \n",
    "\n",
    "If there are multiple independent variables, such as space and time, the equation includes *partial derivatives* and called a *partial differential equation (PDE)*.\n"
   ]
  },
  {
   "cell_type": "markdown",
   "id": "8f9bca92",
   "metadata": {
    "slideshow": {
     "slide_type": "subslide"
    }
   },
   "source": [
    "## It's everywhere!\n",
    "\n",
    "* Dynamical equations: \n",
    "$$F(x, \\frac{dx}{dt}) = m\\frac{d^2x}{dt^2},$$ \n",
    "$$C\\frac{dV}{dt} = - g_L (V-E_L) - g_{Na}(V)(V-E_{Na}) + \\cdots$$\n",
    "\n",
    "* Time series models:\n",
    "$$ X_t = \\sum_{i=1}^p \\phi_i X_{t-i} + \\epsilon_t$$\n",
    "$$ h_{t+1} \\leftarrow \\tanh\\left(W_X\\cdot X_t + W_h\\cdot h_t + b\\right)$$\n",
    "\n",
    "* Optimization (or training) of a model\n",
    "\n",
    "$$ W\\leftarrow W +\\Delta W,\\quad\\Delta W = -\\eta \\nabla F(W\\cdot X, Y)$$"
   ]
  },
  {
   "cell_type": "markdown",
   "id": "682b9cba",
   "metadata": {
    "slideshow": {
     "slide_type": "slide"
    }
   },
   "source": [
    "## Ordinary Differential Equations\n",
    "\n",
    "Here we consider ODEs of the form\n",
    "\n",
    "$$ \\frac{dy}{dt} = f(y, t) $$\n",
    "\n",
    "which describes the temporal dynamics of a varibale $y$ over time $t$.  It is also called a *continuous-time dynamical system*.\n",
    "\n",
    "Finding the variable $y$ as an explicit function of time $y(t)$ is called *solving* or *integrating* the ODE.  \n",
    "\n",
    "When we will discuss how do this numerically by a computre program —  *computer simulation*.\n"
   ]
  },
  {
   "cell_type": "markdown",
   "id": "04c42c61",
   "metadata": {
    "slideshow": {
     "slide_type": "subslide"
    }
   },
   "source": [
    "### Simple examples and their analytic solutions\n",
    "\n",
    "Solving a differential equation is an inverse problem of differentiation, for which analytic solution may not be available.  \n",
    "\n",
    "Here we first consider a simple case where analytic solutions are available — *linear* differential equations."
   ]
  },
  {
   "cell_type": "markdown",
   "id": "b36b2be6",
   "metadata": {
    "slideshow": {
     "slide_type": "fragment"
    }
   },
   "source": [
    "#### Example 1.\n",
    "\n",
    "$\\mathbf{y} = y$ is one dimensional and $A$ is a constant.\n",
    "\n",
    "$$ \\frac{dy}{dt} = A y$$\n",
    "\n",
    "$$ \\Rightarrow y = C e^{At}, \\quad C\\text{: constant.}$$"
   ]
  },
  {
   "cell_type": "markdown",
   "id": "0826db37",
   "metadata": {
    "slideshow": {
     "slide_type": "subslide"
    }
   },
   "source": [
    "#### Example 2.\n",
    "$$\\mathbf{y} = [y_0, y_1], \\quad A = \\left(\\begin{array}{cc} 0 & \\omega \\\\ -\\omega & 0 \\end{array}\\right)$$\n",
    "\n",
    "$$ \\frac{d\\mathbf{y}}{dt} = A \\mathbf{y}$$\n",
    "\n",
    "$$ \\Rightarrow \\begin{aligned} y_0 &= C_{0} e^{i\\omega t} +C_{1} e^{-i\\omega t},\\\\ y_1 &= iC_{0} e^{i\\omega t} -iC_{1} e^{-i\\omega t}\\end{aligned}$$\n",
    "\n",
    "Or equivalently,\n",
    "\n",
    "$$ \\begin{aligned} y_0 &= C_0 \\cos{\\omega t} + C_1 \\sin{\\omega t},\\\\y_1 &= - C_0 \\sin{\\omega t} + C_1 \\cos{\\omega t} \\end{aligned} $$\n"
   ]
  },
  {
   "cell_type": "markdown",
   "id": "a000e083",
   "metadata": {
    "slideshow": {
     "slide_type": "subslide"
    }
   },
   "source": [
    "#### Example 3.\n",
    "$$\\mathbf{y} = [y_0, y_1], \\quad A = \\left(\\begin{array}{cc} a & \\omega \\\\ \\omega & a \\end{array}\\right)$$\n",
    "\n",
    "$$ \\frac{d\\mathbf{y}}{dt} = A \\mathbf{y}$$\n",
    "\n",
    "$$ \\Rightarrow \\begin{aligned} y_0 &= C_{0} e^{(a+\\omega) t}+C_{1} e^{(a-\\omega) t}\\\\ y_1 &= C_{0}e^{(a+\\omega) t} - C_1 e^{(a-\\omega) t} \\end{aligned}$$\n",
    "\n",
    "or equivalently\n",
    "\n",
    "$$ \\begin{aligned} y_0 &= C_{0} e^{at} \\cosh(\\omega t)+C_{1} e^{at} \\sinh(\\omega t)\\\\ y_1 &= C_{0} e^{a t} \\sinh(\\omega t)+C_{1} e^{at} \\cosh(\\omega t)\\end{aligned}$$\n"
   ]
  },
  {
   "cell_type": "markdown",
   "id": "195cf842",
   "metadata": {
    "slideshow": {
     "slide_type": "slide"
    }
   },
   "source": [
    "## Numerical solution\n",
    "\n",
    "Here we discuss how we iteratively obtain a solution of \n",
    "$$\\frac{dy}{dt} = f(y, t),$$\n",
    "as \n",
    "$$y(t_0) \\to y(t_0+\\Delta t) \\to y(t_0+2\\Delta t) \\to \\cdots$$\n"
   ]
  },
  {
   "cell_type": "markdown",
   "id": "7bb1c920",
   "metadata": {
    "slideshow": {
     "slide_type": "fragment"
    }
   },
   "source": [
    "### Forward Euler method (explicit Euler)\n",
    "\n",
    "We start from the Taylor expansion,\n",
    "$$\n",
    "y(t_0 + \\Delta t) = y(t_0) + \\frac{dy}{dt}(t_0)\\Delta t+ \\frac12 \\frac{d^2 y}{dt^2}(t_0)\\Delta t^2 + \\cdots\n",
    "$$\n",
    "\n",
    "Then, up to an $\\mathcal{O}(\\Delta t^2)$ error,\n",
    "\n",
    "$$\\Rightarrow y(t_0 + \\Delta t) \\approx y(t_0) + f(y(t_0), t_0)\\Delta t.$$\n",
    "\n"
   ]
  },
  {
   "cell_type": "markdown",
   "id": "c3009510",
   "metadata": {
    "slideshow": {
     "slide_type": "subslide"
    }
   },
   "source": [
    "### Example\n",
    "\n",
    "Here we solve ODEs for two coupled *RC*-circuits joined by a small resistance $R_g$. This can be a simple model for two passive neurons coupled by a gap junction.\n",
    "\n",
    "\n",
    "The equations are\n",
    "\n",
    "$$\n",
    "\\begin{aligned}\n",
    "C\\frac{dV_0}{dt} & = (V_1-V_0)/R_g - V_0/R \\\\\n",
    "C\\frac{dV_1}{dt} & = (V_0-V_1)/R_g - V_1/R\n",
    "\\end{aligned}\n",
    "$$\n"
   ]
  },
  {
   "cell_type": "markdown",
   "id": "9ba0914d",
   "metadata": {
    "slideshow": {
     "slide_type": "subslide"
    }
   },
   "source": [
    "Let's simplify the equations by defining $a = 1/RC$ and $a_g = 1/R_gC$.\n",
    "$$\n",
    "\\begin{aligned}\n",
    "\\frac{dV_0}{dt} & = a_g(V_1-V_0) - a V_0\\\\\n",
    "\\frac{dV_1}{dt} & = a_g(V_0-V_1) - a V_1\n",
    "\\end{aligned}\n",
    "$$"
   ]
  },
  {
   "cell_type": "code",
   "execution_count": null,
   "id": "7ee30a74",
   "metadata": {
    "slideshow": {
     "slide_type": "fragment"
    }
   },
   "outputs": [],
   "source": [
    "from numpy import array, arange\n",
    "\n",
    "a_g = 18.0\n",
    "a = 2.0\n",
    "\n",
    "# We assume V = array([V0, V1])\n",
    "def right_hand_side(V):\n",
    "    V0 = V[0]\n",
    "    V1 = V[1]\n",
    "    \n",
    "    dV0 = a_g*(V1-V0) - a*V0\n",
    "    dV1 = a_g*(V0-V1) - a*V1\n",
    "    \n",
    "    return array([dV0, dV1])"
   ]
  },
  {
   "cell_type": "markdown",
   "id": "812a848b",
   "metadata": {
    "slideshow": {
     "slide_type": "subslide"
    }
   },
   "source": [
    "$$ y(t_0 + \\Delta t) \\approx y(t_0) + f(y(t_0), t_0)\\Delta t$$\n"
   ]
  },
  {
   "cell_type": "code",
   "execution_count": null,
   "id": "2122d1be",
   "metadata": {},
   "outputs": [],
   "source": [
    "# we will collect data in these lists\n",
    "ts = []\n",
    "Vs = []\n",
    "\n",
    "# initial values.\n",
    "t = 0\n",
    "Vinit = array([0, 10]) # In the beginning, Neuron 1 is depolarized\n",
    "\n",
    "# collect initial values\n",
    "ts.append(t)\n",
    "Vs.append(Vinit)\n",
    "\n",
    "Nsteps_per_sec = 100\n",
    "dt = 1/Nsteps_per_sec #dt = 0.01 sec\n",
    "\n",
    "# i = 0, 1, 2, ..., 99: loop Nsteps_per_sec times\n",
    "for i in range(Nsteps_per_sec):\n",
    "    Vprev = Vs[i]\n",
    "    \n",
    "    # approximation of dV/dt\n",
    "    dV = right_hand_side(Vprev)\n",
    "    \n",
    "    # Forward Euler step\n",
    "    Vnext = Vprev + dV*dt \n",
    "    t = t + dt\n",
    "    \n",
    "    Vs.append(Vnext)\n",
    "    ts.append(t)\n",
    "\n",
    "ts = array(ts)\n",
    "Vs = array(Vs)"
   ]
  },
  {
   "cell_type": "code",
   "execution_count": null,
   "id": "9d2c185b",
   "metadata": {
    "slideshow": {
     "slide_type": "subslide"
    }
   },
   "outputs": [],
   "source": [
    "# Analytic solution\n",
    "from numpy import exp, sqrt\n",
    "\n",
    "V0_exact = 5*exp(-38*ts)+5*exp(-2*ts)\n",
    "V1_exact = 5*exp(-2*ts)-5*exp(-38*ts)\n",
    "\n",
    "# Plot results\n",
    "import matplotlib.pyplot as plt\n",
    "plt.plot(ts, Vs)\n",
    "plt.plot(ts, V0_exact, ':k')\n",
    "plt.plot(ts, V1_exact, ':k')"
   ]
  },
  {
   "cell_type": "markdown",
   "id": "c7a867b1",
   "metadata": {
    "slideshow": {
     "slide_type": "slide"
    }
   },
   "source": [
    "### Backward Euler method (implicit Euler)\n",
    "\n",
    "We expand the Taylor expansion at $t_0+\\Delta t$, not at $t_0$,\n",
    "$$\n",
    "y(t_0) = y(t_0+\\Delta t - \\Delta t) = y(t_0+\\Delta t) - \\frac{dy}{dt}(t_0+\\Delta t)\\Delta t+ \\frac12 \\frac{d^2 y}{dt^2}(t_0+\\Delta t)\\Delta t^2 + \\cdots\n",
    "$$\n",
    "\n",
    "Then, up to $\\mathcal{O}(\\Delta t^2)$ error,\n",
    "\n",
    "$$\\Rightarrow y(t_0 + \\Delta t) \\approx y(t_0) + f(y(t_0+\\Delta t), t_0+\\Delta t)\\Delta t,$$\n",
    "\n",
    "Then, we can use *a numerical equation solver* to solve this for $y(t_0 + \\Delta t)$ for every time step."
   ]
  },
  {
   "cell_type": "markdown",
   "id": "69403994",
   "metadata": {
    "slideshow": {
     "slide_type": "subslide"
    }
   },
   "source": [
    "#### Predictor-corrector method for numerical solution"
   ]
  },
  {
   "cell_type": "code",
   "execution_count": null,
   "id": "cf62eba0",
   "metadata": {
    "slideshow": {
     "slide_type": "-"
    }
   },
   "outputs": [],
   "source": [
    "from numpy import abs, sum\n",
    "\n",
    "def predict_correct(f, yprev, dt, error_tolerance=0.1, max_iter=100):\n",
    "    \"\"\"predictor-corrector scheme for solving the implicit equation\"\"\"\n",
    "    \n",
    "    # initial prediction is yprev\n",
    "    ypredict = yprev # y(t_0)\n",
    "    \n",
    "    # Loop for max_iter times\n",
    "    for i in range(max_iter):\n",
    "        \n",
    "        ynext = yprev + f(ypredict)*dt\n",
    "        \n",
    "        # test if ycorrect = ypredict\n",
    "        error = sum(abs(ynext-ypredict))\n",
    "        if error<error_tolerance:\n",
    "            # Return the solution and get out of the loop\n",
    "            return ynext\n",
    "        else:\n",
    "            # if the test fails, the prediction is updated\n",
    "            ypredict = (ynext + ypredict)/2\n",
    "    \n",
    "    # if test never succeeds within max_iter repetition, return error\n",
    "    raise RuntimeError('Failed to solve the implicit equation.')"
   ]
  },
  {
   "cell_type": "code",
   "execution_count": null,
   "id": "e05c23a1",
   "metadata": {
    "slideshow": {
     "slide_type": "subslide"
    }
   },
   "outputs": [],
   "source": [
    "ts = []\n",
    "Vs = []\n",
    "\n",
    "t = 0\n",
    "Vinit = array([0, 10]) # In the beginning, Neuron 1 is depolarized\n",
    "\n",
    "ts.append(t)\n",
    "Vs.append(Vinit)\n",
    "\n",
    "Nsteps_per_sec = 100\n",
    "dt = 1/Nsteps_per_sec #dt = 0.01 sec\n",
    "for i in range(Nsteps_per_sec):\n",
    "    Vprev = Vs[i]\n",
    "    \n",
    "    # Backward Euler\n",
    "    Vnext = predict_correct(right_hand_side, Vprev, dt)\n",
    "    \n",
    "    t = t + dt\n",
    "    ts.append(t)\n",
    "    Vs.append(Vnext)\n",
    "    \n",
    "ts = array(ts)\n",
    "Vs = array(Vs)"
   ]
  },
  {
   "cell_type": "code",
   "execution_count": null,
   "id": "c36bf8f9",
   "metadata": {
    "scrolled": false,
    "slideshow": {
     "slide_type": "subslide"
    }
   },
   "outputs": [],
   "source": [
    "V0_exact = 5*exp(-38*ts)+5*exp(-2*ts)\n",
    "V1_exact = 5*exp(-2*ts)-5*exp(-38*ts)\n",
    "\n",
    "plt.plot(ts, array(Vs))\n",
    "plt.plot(ts, V0_exact, ':k')\n",
    "plt.plot(ts, V1_exact, ':k')"
   ]
  },
  {
   "cell_type": "markdown",
   "id": "f44e0607",
   "metadata": {
    "slideshow": {
     "slide_type": "slide"
    }
   },
   "source": [
    "### Runge-Kutta method (of the second order, RK23)\n",
    "\n",
    "In this method, we sequentially approximate $k$ in\n",
    "$$ y(t_0+\\Delta t) = y(t_0) + k\\Delta t.$$\n",
    "\n",
    "1. We predict $k \\approx k_1 = f(y(t_0), t_0)$ just as the forward Euler.\n",
    "2. Now we move **a half step** and evaluate a new predictor for $k$\n",
    "$$ k_2 = f(y(t_0)+k_1\\Delta t/2, t_0+\\Delta t/2)$$\n",
    "\n",
    "$$\\Rightarrow y(t_0+\\Delta) \\approx y(t_0) + k_2\\Delta t$$\n",
    "\n",
    "This method is accurate up to an $\\mathcal{O}(\\Delta t^3)$ error (more accurate than $\\mathcal{O}(\\Delta t^2)$ errors of Euler methods)."
   ]
  },
  {
   "cell_type": "code",
   "execution_count": null,
   "id": "499c32fb",
   "metadata": {
    "slideshow": {
     "slide_type": "subslide"
    }
   },
   "outputs": [],
   "source": [
    "ts = []\n",
    "Vs = []\n",
    "\n",
    "t = 0\n",
    "Vinit = array([0, 10]) # In the beginning, Neuron 1 is depolarized\n",
    "\n",
    "ts.append(t)\n",
    "Vs.append(Vinit)\n",
    "\n",
    "Nsteps_per_sec = 100\n",
    "dt = 1/Nsteps_per_sec #dt = 0.01 sec\n",
    "for i in range(Nsteps_per_sec):\n",
    "    Vprev = Vs[i]\n",
    "    \n",
    "    k1 = right_hand_side(Vprev)    \n",
    "    k2 = right_hand_side(Vprev + k1*dt/2)\n",
    "    \n",
    "    Vnext = Vprev + k2*dt\n",
    "    \n",
    "    t = t + dt\n",
    "    ts.append(t)\n",
    "    Vs.append(Vnext)\n",
    "\n",
    "ts = array(ts)\n",
    "Vs = array(Vs)"
   ]
  },
  {
   "cell_type": "code",
   "execution_count": null,
   "id": "6ff54b0d",
   "metadata": {
    "slideshow": {
     "slide_type": "subslide"
    }
   },
   "outputs": [],
   "source": [
    "V0_exact = 5*exp(-38*ts)+5*exp(-2*ts)\n",
    "V1_exact = 5*exp(-2*ts)-5*exp(-38*ts)\n",
    "\n",
    "plt.plot(ts, array(Vs))\n",
    "plt.plot(ts, V0_exact, ':k')\n",
    "plt.plot(ts, V1_exact, ':k')"
   ]
  },
  {
   "cell_type": "markdown",
   "id": "3d873558",
   "metadata": {
    "slideshow": {
     "slide_type": "subslide"
    }
   },
   "source": [
    "### Take-home messages\n",
    "If your model is made of ODEs, please keep in mind:\n",
    "\n",
    "#### 1. Accuracy matters.\n",
    "\n",
    "Try different solver algorithms and time step sizes to test the accuracy-speed trade-off.\n",
    "\n",
    "#### 2. Stability matters.\n",
    "\n",
    "Keep in mind that the explicit solvers can be unstable regardless of their accuracy (with **stiff equations**). Test smaller time steps to make sure what you see is a model property, not instability arising from a poor choice of a simulation scheme and time step.\n",
    "\n",
    "*Sometimes it's not obvious that you're dealing with ODEs and these related issues!*"
   ]
  },
  {
   "cell_type": "markdown",
   "id": "435a9036",
   "metadata": {
    "slideshow": {
     "slide_type": "subslide"
    }
   },
   "source": [
    "Qin, C. et al. 2020. NeurIPS 2020\n",
    "<img src=figures/gan1.png width=800>\n",
    "\n"
   ]
  },
  {
   "cell_type": "markdown",
   "id": "a2dc2dbd",
   "metadata": {
    "slideshow": {
     "slide_type": "subslide"
    }
   },
   "source": [
    "<img src=figures/gan3.png width=1600>\n"
   ]
  },
  {
   "cell_type": "markdown",
   "id": "63ab8504",
   "metadata": {
    "slideshow": {
     "slide_type": "subslide"
    }
   },
   "source": [
    "<img src=figures/gan2.png width=800>"
   ]
  },
  {
   "cell_type": "markdown",
   "id": "f8f1b424",
   "metadata": {
    "slideshow": {
     "slide_type": "slide"
    }
   },
   "source": [
    "## Fixed points and local behavior\n",
    "\n",
    "How do we characterize the general properpties of a dynamical system? We can first assume that the system will arrive at a certain \"state\" at the end of the day. Then, understanding the system's behavior around the state will be important."
   ]
  },
  {
   "cell_type": "markdown",
   "id": "92d57dec",
   "metadata": {
    "slideshow": {
     "slide_type": "fragment"
    }
   },
   "source": [
    "1. One way to reach a \"state\" is that the system stops evolving, i.e., ${dy}/{dt} = f(y) = 0$ at $y=y_0$.\n",
    "2. Then, we can analyze how the system would behave around $y=y_0$ by taking linear approximation of the full dynamics.\n",
    "\n",
    "$$\n",
    "\\begin{aligned}\n",
    "\\Rightarrow \\frac{dy}{dt} &= f(y),\\\\\n",
    "\\Rightarrow \\frac{dz}{dt} &\\approx \\frac{df(y_0)}{dy}z, \\quad y = y_0 + z, \\quad z\\ll 1\\\\\n",
    "\\Rightarrow \\frac{dz}{dt} &= M\\cdot z, \\quad M_{ij} = \\frac{df_i(y_0)}{dy_j}\n",
    "\\end{aligned}\n",
    "$$\n"
   ]
  },
  {
   "cell_type": "markdown",
   "id": "5bc35adf",
   "metadata": {
    "slideshow": {
     "slide_type": "subslide"
    }
   },
   "source": [
    "| Type | |\n",
    "|:-----:|:---:|\n",
    "|Attractors| <img src=figures/attractor.png width=400>|\n",
    "|Repellors| <img src=figures/repellor.png width=400>|\n",
    "|Saddle|  <img src=figures/saddle.png width=200>|\n",
    "|Cycles| <img src=figures/neutral.png width=200>|\n"
   ]
  },
  {
   "cell_type": "markdown",
   "id": "3786ac20",
   "metadata": {
    "slideshow": {
     "slide_type": "subslide"
    }
   },
   "source": [
    "### Matrix eigen-decomposition to identify behaviors\n",
    "\n",
    "We can compute the eigenvalues of $M$ to analyze which behavior would arise around fixed point,\n",
    "\n",
    "$$\n",
    "M = U\\Lambda U^{-1}, \\quad \\Lambda = \\left(\n",
    "\\begin{array}{cccc}\n",
    "\\lambda_1 & 0 & \\cdots & \\cdots\\\\\n",
    "0 & \\lambda_2 & \\cdots & \\cdots\\\\\n",
    "0 & 0 & \\cdots &\\cdots\\\\\n",
    "0 & \\cdots & 0 & \\lambda_N\n",
    "\\end{array}\\right)\n",
    "$$\n",
    "\n",
    "Then,\n",
    "$$\n",
    "\\frac{dz}{dt} = M z \\Rightarrow \\frac{dx_i}{dt} = \\lambda_i x_i,\\quad x = U^{-1}z.\n",
    "$$\n"
   ]
  },
  {
   "cell_type": "markdown",
   "id": "08e4b902",
   "metadata": {
    "slideshow": {
     "slide_type": "subslide"
    }
   },
   "source": [
    "$$\\frac{dx_i}{dt} = \\lambda_i x_i \\Rightarrow x_i(t) = C_i e^{\\lambda_i t}.$$\n",
    "\n",
    "| Type | | Eigenvalue property|\n",
    "|:-----:|:---:|:---:|\n",
    "|Attractors| <img src=figures/attractor.png width=400>| $\\text{Real}[\\lambda_i] <0$. Nonzero $\\text{Im}[\\lambda_i]$ induces rotation.|\n",
    "|Repellors| <img src=figures/repellor.png width=400>| $\\text{Real}[\\lambda_i] >0$. Nonzero $\\text{Im}[\\lambda_i]$ induces rotation.| \n",
    "|Saddle|  <img src=figures/saddle.png width=200>|$\\text{Real}[\\lambda_i] >0$ or $\\text{Real}[\\lambda_i] <0$ depending on $i$.|\n",
    "|Cycle| <img src=figures/neutral.png width=200>|$\\lambda_i$'s are pure imaginary|\n"
   ]
  },
  {
   "cell_type": "code",
   "execution_count": null,
   "id": "c7e12f56",
   "metadata": {
    "slideshow": {
     "slide_type": "slide"
    }
   },
   "outputs": [],
   "source": [
    "# Eigenvalue decomposition\n",
    "from numpy.linalg import eig\n",
    "M = array([[1, 1.2],\n",
    "           [0.2, -0.8]])\n",
    "\n",
    "lamda, eigvecs = eig(M)\n",
    "print('Eigenvalues:', lamda)"
   ]
  },
  {
   "cell_type": "code",
   "execution_count": null,
   "id": "a0345173",
   "metadata": {
    "slideshow": {
     "slide_type": "-"
    }
   },
   "outputs": [],
   "source": [
    "# We use the fourth-order Runge-Kutta method \n",
    "# https://docs.scipy.org/doc/scipy/reference/generated/scipy.integrate.solve_ivp.html#scipy.integrate.solve_ivp\n",
    "from scipy.integrate import solve_ivp\n",
    "\n",
    "def f(t, z):    \n",
    "    dz = M @ z\n",
    "    return dz\n",
    "\n",
    "z0 = array([0, 10])\n",
    "sol = solve_ivp(f, t_span=[0, 10], t_eval=arange(0, 10, 0.01), y0=z0)\n",
    "\n",
    "plt.plot(sol.t, sol.y[0]); plt.plot(sol.t, sol.y[1]);"
   ]
  },
  {
   "cell_type": "code",
   "execution_count": null,
   "id": "720c0e7c",
   "metadata": {
    "slideshow": {
     "slide_type": "subslide"
    }
   },
   "outputs": [],
   "source": [
    "from numpy.random import uniform, normal\n",
    "\n",
    "z0x = uniform(low=-10, high=10, size=100) \n",
    "z0y = uniform(low=-10, high=10, size=100) \n",
    "\n",
    "for i in range(z0x.size):\n",
    "    sol = solve_ivp(f, t_span=[0, 10], t_eval=arange(0, 10, 0.01), y0=[z0x[i], z0y[i]])\n",
    "    plt.plot(sol.y[0], sol.y[1])\n",
    "\n",
    "plt.xlim([-20, 20])\n",
    "plt.ylim([-20, 20])\n"
   ]
  },
  {
   "cell_type": "markdown",
   "id": "abbcc036",
   "metadata": {
    "slideshow": {
     "slide_type": "slide"
    }
   },
   "source": [
    "### Application in large systems\n",
    "\n",
    "Let's consider a linear dynamical system given by a large (500x500) matrix whose elements are from the standard normal distribution. \n",
    "\n",
    "We first compute the eigenvalues of the matrix."
   ]
  },
  {
   "cell_type": "code",
   "execution_count": null,
   "id": "c6b9ed4e",
   "metadata": {
    "slideshow": {
     "slide_type": "subslide"
    }
   },
   "outputs": [],
   "source": [
    "from numpy.random import normal\n",
    "\n",
    "Nsize = 500\n",
    "M = normal(size=(Nsize, Nsize)) # Nsize x Nsize matrix filled by Gaussian random numbers\n",
    "lamda, eigvecs = eig(M)\n",
    "\n",
    "plt.plot(lamda.real, lamda.imag, '.') \n",
    "plt.plot(array([1, 1])*sqrt(Nsize), array([-1, 1])*sqrt(Nsize), '--r')"
   ]
  },
  {
   "cell_type": "markdown",
   "id": "79666a34",
   "metadata": {
    "slideshow": {
     "slide_type": "subslide"
    }
   },
   "source": [
    "What does it tell us about the system's behavior given by ${dz}/{dt} = Mz$?"
   ]
  },
  {
   "cell_type": "code",
   "execution_count": null,
   "id": "15ea7f12",
   "metadata": {
    "slideshow": {
     "slide_type": "-"
    }
   },
   "outputs": [],
   "source": [
    "def f(t, z):\n",
    "    dz = M @ z # Matrix multiplication\n",
    "    return dz\n",
    "\n",
    "z0 = uniform(low=-10, high=10, size=Nsize)\n",
    "sol = solve_ivp(f, t_span=[0, 1], t_eval=arange(0, 1, 0.01), y0=z0)\n",
    "\n",
    "_ = plt.plot(sol.t, sol.y.T)"
   ]
  },
  {
   "cell_type": "markdown",
   "id": "04c85e5f",
   "metadata": {
    "slideshow": {
     "slide_type": "subslide"
    }
   },
   "source": [
    "We can shift the distribution adding an identity matrix."
   ]
  },
  {
   "cell_type": "code",
   "execution_count": null,
   "id": "d63495fe",
   "metadata": {
    "slideshow": {
     "slide_type": "-"
    }
   },
   "outputs": [],
   "source": [
    "# eye(N) generates an N x N identity matrix.\n",
    "from numpy import eye \n",
    "\n",
    "lamda, eigvecs = eig(M - sqrt(Nsize)*eye(Nsize))\n",
    "\n",
    "plt.plot(lamda.real, lamda.imag, '.')\n",
    "plt.plot(lamda.real[lamda.real>0], lamda.imag[ lamda.real>0], 'or')\n",
    "plt.plot(array([0, 0])*sqrt(Nsize), array([-1, 1])*sqrt(Nsize), 'r')"
   ]
  },
  {
   "cell_type": "code",
   "execution_count": null,
   "id": "d1b13209",
   "metadata": {
    "slideshow": {
     "slide_type": "subslide"
    }
   },
   "outputs": [],
   "source": [
    "def f(t, z):\n",
    "    dz = (M - sqrt(Nsize)*eye(Nsize)) @ z # Matrix multiplication\n",
    "    return dz\n",
    "\n",
    "z0 = uniform(low=-10, high=10, size=Nsize)\n",
    "sol = solve_ivp(f, t_span=[0, 1], t_eval=arange(0, 1, 0.01), y0=z0)\n",
    "\n",
    "plt.plot(sol.t, sol.y.T);"
   ]
  }
 ],
 "metadata": {
  "@webio": {
   "lastCommId": null,
   "lastKernelId": null
  },
  "celltoolbar": "Slideshow",
  "kernelspec": {
   "display_name": "Python 3 (ipykernel)",
   "language": "python",
   "name": "python3"
  },
  "language_info": {
   "codemirror_mode": {
    "name": "ipython",
    "version": 3
   },
   "file_extension": ".py",
   "mimetype": "text/x-python",
   "name": "python",
   "nbconvert_exporter": "python",
   "pygments_lexer": "ipython3",
   "version": "3.11.3"
  }
 },
 "nbformat": 4,
 "nbformat_minor": 5
}
